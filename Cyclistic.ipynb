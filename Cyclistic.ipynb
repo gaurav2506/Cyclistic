{
  "nbformat": 4,
  "nbformat_minor": 0,
  "metadata": {
    "colab": {
      "name": "Cyclistic",
      "provenance": [],
      "mount_file_id": "1mwUpNeYWLrSHuRw1FX7kUuLhAm3OZcZC",
      "authorship_tag": "ABX9TyNiQIII1Mw2kB+pgMNxVd8T",
      "include_colab_link": true
    },
    "kernelspec": {
      "display_name": "Python 3",
      "name": "python3"
    },
    "language_info": {
      "name": "python"
    },
    "accelerator": "GPU"
  },
  "cells": [
    {
      "cell_type": "markdown",
      "metadata": {
        "id": "view-in-github",
        "colab_type": "text"
      },
      "source": [
        "<a href=\"https://colab.research.google.com/github/gaurav2506/Cyclistic/blob/main/Cyclistic.ipynb\" target=\"_parent\"><img src=\"https://colab.research.google.com/assets/colab-badge.svg\" alt=\"Open In Colab\"/></a>"
      ]
    },
    {
      "cell_type": "markdown",
      "metadata": {
        "id": "eWkHf7OkbZTV"
      },
      "source": [
        "## Prepare"
      ]
    },
    {
      "cell_type": "code",
      "metadata": {
        "colab": {
          "base_uri": "https://localhost:8080/"
        },
        "id": "JahFjwEzauk6",
        "outputId": "21a7c63b-9383-45a2-b832-011bc923b695"
      },
      "source": [
        "from google.colab import drive\n",
        "drive.mount('/content/drive')"
      ],
      "execution_count": null,
      "outputs": [
        {
          "output_type": "stream",
          "name": "stdout",
          "text": [
            "Drive already mounted at /content/drive; to attempt to forcibly remount, call drive.mount(\"/content/drive\", force_remount=True).\n"
          ]
        }
      ]
    },
    {
      "cell_type": "code",
      "metadata": {
        "id": "qoxPa94javfk"
      },
      "source": [
        "import pandas as pd\n",
        "import numpy as np"
      ],
      "execution_count": null,
      "outputs": []
    },
    {
      "cell_type": "code",
      "metadata": {
        "id": "eJkw1sz7cCaL"
      },
      "source": [
        "#Importing the files to Python\n",
        "df01 = pd.read_csv(\"/content/drive/MyDrive/Cyclisitc/Data/202011-divvy-tripdata.csv\")\n",
        "df02 = pd.read_csv(\"/content/drive/MyDrive/Cyclisitc/Data/202012-divvy-tripdata.csv\")\n",
        "df03 = pd.read_csv(\"/content/drive/MyDrive/Cyclisitc/Data/202101-divvy-tripdata.csv\")\n",
        "df04 = pd.read_csv(\"/content/drive/MyDrive/Cyclisitc/Data/202102-divvy-tripdata.csv\")\n",
        "df05 = pd.read_csv(\"/content/drive/MyDrive/Cyclisitc/Data/202103-divvy-tripdata.csv\")\n",
        "df06 = pd.read_csv(\"/content/drive/MyDrive/Cyclisitc/Data/202104-divvy-tripdata.csv\")\n",
        "df07 = pd.read_csv(\"/content/drive/MyDrive/Cyclisitc/Data/202105-divvy-tripdata.csv\")\n",
        "df08 = pd.read_csv(\"/content/drive/MyDrive/Cyclisitc/Data/202106-divvy-tripdata.csv\")\n",
        "df09 = pd.read_csv(\"/content/drive/MyDrive/Cyclisitc/Data/202107-divvy-tripdata.csv\")\n",
        "df10 = pd.read_csv(\"/content/drive/MyDrive/Cyclisitc/Data/202108-divvy-tripdata.csv\")\n",
        "df11 = pd.read_csv(\"/content/drive/MyDrive/Cyclisitc/Data/202109-divvy-tripdata.csv\")\n",
        "df12 = pd.read_csv(\"/content/drive/MyDrive/Cyclisitc/Data/202110-divvy-tripdata.csv\")"
      ],
      "execution_count": null,
      "outputs": []
    },
    {
      "cell_type": "code",
      "metadata": {
        "id": "3gSIMWWjjgwn"
      },
      "source": [
        "#Meging those files\n",
        "master_df=pd.concat([df01,df02,df03,df04,df05,df06,df07,df08,df09,df10,df11,df12])"
      ],
      "execution_count": null,
      "outputs": []
    },
    {
      "cell_type": "code",
      "metadata": {
        "colab": {
          "base_uri": "https://localhost:8080/"
        },
        "id": "uDr82P_EkeiK",
        "outputId": "009d8eac-03a4-46f8-e75a-910c89827824"
      },
      "source": [
        "#Metadata\n",
        "master_df.info()"
      ],
      "execution_count": null,
      "outputs": [
        {
          "output_type": "stream",
          "name": "stdout",
          "text": [
            "<class 'pandas.core.frame.DataFrame'>\n",
            "Int64Index: 5378834 entries, 0 to 631225\n",
            "Data columns (total 13 columns):\n",
            " #   Column              Dtype  \n",
            "---  ------              -----  \n",
            " 0   ride_id             object \n",
            " 1   rideable_type       object \n",
            " 2   started_at          object \n",
            " 3   ended_at            object \n",
            " 4   start_station_name  object \n",
            " 5   start_station_id    object \n",
            " 6   end_station_name    object \n",
            " 7   end_station_id      object \n",
            " 8   start_lat           float64\n",
            " 9   start_lng           float64\n",
            " 10  end_lat             float64\n",
            " 11  end_lng             float64\n",
            " 12  member_casual       object \n",
            "dtypes: float64(4), object(9)\n",
            "memory usage: 574.5+ MB\n"
          ]
        }
      ]
    },
    {
      "cell_type": "code",
      "metadata": {
        "id": "9IaNClRzkrJl"
      },
      "source": [
        "#Adding new columns start and end. These columns are started_at and ended_at columns converted from Object to datetime data type.\n",
        "master_df[\"start\"] = pd.to_datetime(master_df[\"started_at\"])\n",
        "master_df[\"end\"] = pd.to_datetime(master_df[\"ended_at\"])"
      ],
      "execution_count": null,
      "outputs": []
    },
    {
      "cell_type": "code",
      "metadata": {
        "colab": {
          "base_uri": "https://localhost:8080/"
        },
        "id": "Y31bGEHDYbjO",
        "outputId": "2b1eabce-cd1e-4620-f56c-489bf918a248"
      },
      "source": [
        "#Calculating length of total rides in column ride_length by subtracting end by start\n",
        "master_df[\"ride_length\"] = master_df[\"end\"] - master_df[\"start\"]\n",
        "master_df[\"ride_length\"].head()"
      ],
      "execution_count": null,
      "outputs": [
        {
          "output_type": "execute_result",
          "data": {
            "text/plain": [
              "0   0 days 00:09:40\n",
              "1   0 days 00:11:19\n",
              "2   0 days 00:29:01\n",
              "3   0 days 00:09:15\n",
              "4   0 days 00:33:27\n",
              "Name: ride_length, dtype: timedelta64[ns]"
            ]
          },
          "metadata": {},
          "execution_count": 7
        }
      ]
    },
    {
      "cell_type": "code",
      "metadata": {
        "id": "3XtKupNcZr_X"
      },
      "source": [
        "# Splitting and extracting the date from \"started_at\" column\n",
        "master_df[\"start_date\"] = [i.split(\" \")[0] for i in master_df[\"started_at\"]]\n",
        "# Converting start_date1 into datetime data type\n",
        "master_df[\"start_date\"] = pd.to_datetime(master_df[\"start_date\"])\n",
        "# Finding the weekday of the date\n",
        "master_df['week_day'] = master_df[\"start_date\"].apply(lambda x: x.weekday())\n",
        "# Converting weekday values into weekday\n",
        "dict1 = {0: \"Sunday\", 1: \"Monday\", 2: \"Tuesday\", 3: \"Wednesday\", 4: \"Thursday\", 5: \"Friday\", 6: \"Saturday\"}\n",
        "master_df['week_day'] = master_df['week_day'].apply(lambda y: dict1[y])"
      ],
      "execution_count": null,
      "outputs": []
    },
    {
      "cell_type": "code",
      "metadata": {
        "id": "ScwzRMbJW0uR"
      },
      "source": [
        "# To extract year and month from start date column\n",
        "master_df['year'] = pd.DatetimeIndex(master_df[\"start_date\"]).year\n",
        "master_df['month'] = pd.DatetimeIndex(master_df[\"start_date\"]).month"
      ],
      "execution_count": null,
      "outputs": []
    },
    {
      "cell_type": "code",
      "metadata": {
        "id": "O1f0hnjP0CJj",
        "colab": {
          "base_uri": "https://localhost:8080/"
        },
        "outputId": "1bb5e33d-a6e8-4014-ce9d-fe95d0893d8e"
      },
      "source": [
        "# To calculate euclidean distance between start and end point.\n",
        "master_df[\"x\"] = (master_df[\"end_lat\"] - master_df[\"start_lat\"])**2\n",
        "master_df[\"y\"] = (master_df[\"end_lng\"] - master_df[\"start_lng\"])**2\n",
        "master_df[\"distance\"] = (master_df[\"x\"] + master_df[\"y\"])**(1/2)\n",
        "master_df[\"distance\"]"
      ],
      "execution_count": null,
      "outputs": [
        {
          "output_type": "execute_result",
          "data": {
            "text/plain": [
              "0         0.005754\n",
              "1         0.028824\n",
              "2         0.015603\n",
              "3         0.024142\n",
              "4         0.000053\n",
              "            ...   \n",
              "631221    0.034801\n",
              "631222    0.030542\n",
              "631223    0.010889\n",
              "631224    0.010882\n",
              "631225    0.043390\n",
              "Name: distance, Length: 5378834, dtype: float64"
            ]
          },
          "metadata": {},
          "execution_count": 10
        }
      ]
    },
    {
      "cell_type": "code",
      "metadata": {
        "colab": {
          "base_uri": "https://localhost:8080/"
        },
        "id": "rc7MwHEv_iTR",
        "outputId": "bfed3466-0d47-4d69-a010-c02729696fb6"
      },
      "source": [
        "master_df.ride_length.describe()"
      ],
      "execution_count": null,
      "outputs": [
        {
          "output_type": "execute_result",
          "data": {
            "text/plain": [
              "count                      5378834\n",
              "mean     0 days 00:20:29.374965280\n",
              "std      0 days 04:59:59.531975398\n",
              "min             -21 days +19:50:02\n",
              "25%                0 days 00:06:58\n",
              "50%                0 days 00:12:23\n",
              "75%                0 days 00:22:26\n",
              "max               38 days 20:24:09\n",
              "Name: ride_length, dtype: object"
            ]
          },
          "metadata": {},
          "execution_count": 11
        }
      ]
    },
    {
      "cell_type": "code",
      "metadata": {
        "colab": {
          "base_uri": "https://localhost:8080/"
        },
        "id": "upjlCCgw_vsQ",
        "outputId": "008a6e3d-7014-48f5-dc7f-4ef2e84d4ac8"
      },
      "source": [
        "mean_ride_length,max_ride_length=master_df.ride_length.mean(),master_df.ride_length.max()\n",
        "print(\"Average ride length:{} (All users)\\nMaximum ride length:{} (All users)\".format(mean_ride_length,max_ride_length))"
      ],
      "execution_count": null,
      "outputs": [
        {
          "output_type": "stream",
          "name": "stdout",
          "text": [
            "Average ride length:0 days 00:20:29.374965280 (All users)\n",
            "Maximum ride length:38 days 20:24:09 (All users)\n"
          ]
        }
      ]
    },
    {
      "cell_type": "code",
      "metadata": {
        "colab": {
          "base_uri": "https://localhost:8080/"
        },
        "id": "1mJd2VmoDG0j",
        "outputId": "72db27a8-88aa-4a73-a3d6-d5bc7d7d509b"
      },
      "source": [
        "#For members\n",
        "member_stat = master_df[master_df[\"member_casual\"] == \"member\"]\n",
        "member_ride_length_avg,member_ride_length_max=member_stat.ride_length.mean(),member_stat.ride_length.max()\n",
        "print(\"Average ride length:{} (Members)\\nMaximum ride length:{} (Members)\".format(member_ride_length_avg,member_ride_length_max))\n"
      ],
      "execution_count": null,
      "outputs": [
        {
          "output_type": "stream",
          "name": "stdout",
          "text": [
            "Average ride length:0 days 00:11:01.074557553 (Members)\n",
            "Maximum ride length:1 days 01:59:56 (Members)\n"
          ]
        }
      ]
    },
    {
      "cell_type": "code",
      "metadata": {
        "id": "MbGMjhhZDHoq",
        "colab": {
          "base_uri": "https://localhost:8080/"
        },
        "outputId": "10b70330-62a0-4259-b1db-7fab6fbbfacc"
      },
      "source": [
        "# #For casual\n",
        "casual_stat = master_df[master_df[\"member_casual\"] == \"casual\"]\n",
        "casual_ride_length_avg,casual_ride_length_max=casual_stat.ride_length.mean(),casual_stat.ride_length.max()\n",
        "print(\"Average ride length:{} (Casual)\\nMaximum ride length:{} (Casual)\".format(casual_ride_length_avg,casual_ride_length_max))"
      ],
      "execution_count": null,
      "outputs": [
        {
          "output_type": "stream",
          "name": "stdout",
          "text": [
            "Average ride length:0 days 00:31:38.383815209 (Casual)\n",
            "Maximum ride length:38 days 20:24:09 (Casual)\n"
          ]
        }
      ]
    },
    {
      "cell_type": "code",
      "metadata": {
        "colab": {
          "base_uri": "https://localhost:8080/"
        },
        "id": "_6mHfAZ0ngCG",
        "outputId": "5ff1aedd-f1b1-4755-aaa9-8919b139ea72"
      },
      "source": [
        "# Most popular week day among all users --> Mode\n",
        "week_day = master_df.week_day.mode()\n",
        "week_day_member,week_day_casual=member_stat.week_day.mode(),casual_stat.week_day.mode()\n",
        "print(\"\\nMost popular weekday:{}\\nMember:{}\\nCasual:{}\".format(week_day,week_day_member,week_day_casual))"
      ],
      "execution_count": null,
      "outputs": [
        {
          "output_type": "stream",
          "name": "stdout",
          "text": [
            "\n",
            "Most popular weekday:0    Friday\n",
            "dtype: object\n",
            "Member:0    Tuesday\n",
            "dtype: object\n",
            "Casual:0    Friday\n",
            "dtype: object\n"
          ]
        }
      ]
    },
    {
      "cell_type": "code",
      "metadata": {
        "colab": {
          "base_uri": "https://localhost:8080/"
        },
        "id": "GLSpo_40u4Sz",
        "outputId": "d103b660-dc19-4c1b-f71a-a11e65bebbc6"
      },
      "source": [
        "weekday_user = master_df.groupby('week_day')['ride_id'].count()\n",
        "weekday_user = weekday_user.sort_index()\n",
        "weekday_user"
      ],
      "execution_count": null,
      "outputs": [
        {
          "output_type": "execute_result",
          "data": {
            "text/plain": [
              "week_day\n",
              "Friday       973172\n",
              "Monday       696199\n",
              "Saturday     844689\n",
              "Sunday       669649\n",
              "Thursday     780238\n",
              "Tuesday      711872\n",
              "Wednesday    703015\n",
              "Name: ride_id, dtype: int64"
            ]
          },
          "metadata": {},
          "execution_count": 16
        }
      ]
    },
    {
      "cell_type": "code",
      "metadata": {
        "id": "z7zHw7k9aqHg"
      },
      "source": [
        "weekday_member = master_df[master_df[\"member_casual\"] == \"member\"].groupby('week_day')['ride_id'].count()"
      ],
      "execution_count": null,
      "outputs": []
    },
    {
      "cell_type": "code",
      "metadata": {
        "id": "ib_-pi5kwrE_"
      },
      "source": [
        "weekday_casual = master_df[master_df[\"member_casual\"] == \"casual\"].groupby('week_day')['ride_id'].count()"
      ],
      "execution_count": null,
      "outputs": []
    },
    {
      "cell_type": "code",
      "metadata": {
        "id": "TTKrupsyxDoB"
      },
      "source": [
        "# Calculate the average ride_length for users by week_day\n",
        "mean_ride_length = master_df.groupby(\"week_day\")['ride_length'].mean(numeric_only=False)"
      ],
      "execution_count": null,
      "outputs": []
    },
    {
      "cell_type": "code",
      "metadata": {
        "id": "EDxVVU8qN8u9"
      },
      "source": [
        "# Calculate the average ride_length for members by week_day\n",
        "mean_ride_length_member = master_df[master_df[\"member_casual\"] == \"member\"].groupby('week_day')['ride_length'].mean(numeric_only=False)"
      ],
      "execution_count": null,
      "outputs": []
    },
    {
      "cell_type": "code",
      "metadata": {
        "id": "_hrUIgNeRT0Z"
      },
      "source": [
        "# Calculate the average ride_length for casual by week_day\n",
        "mean_ride_length_casual = master_df[master_df[\"member_casual\"] == \"casual\"].groupby('week_day')['ride_length'].mean(numeric_only=False)"
      ],
      "execution_count": null,
      "outputs": []
    },
    {
      "cell_type": "code",
      "metadata": {
        "colab": {
          "base_uri": "https://localhost:8080/"
        },
        "id": "kni9qb05U0Jq",
        "outputId": "bd7f08bb-379c-4c99-ec8d-0f5e3a7e2134"
      },
      "source": [
        "master_df.info()"
      ],
      "execution_count": null,
      "outputs": [
        {
          "output_type": "stream",
          "name": "stdout",
          "text": [
            "<class 'pandas.core.frame.DataFrame'>\n",
            "Int64Index: 5378834 entries, 0 to 631225\n",
            "Data columns (total 23 columns):\n",
            " #   Column              Dtype          \n",
            "---  ------              -----          \n",
            " 0   ride_id             object         \n",
            " 1   rideable_type       object         \n",
            " 2   started_at          object         \n",
            " 3   ended_at            object         \n",
            " 4   start_station_name  object         \n",
            " 5   start_station_id    object         \n",
            " 6   end_station_name    object         \n",
            " 7   end_station_id      object         \n",
            " 8   start_lat           float64        \n",
            " 9   start_lng           float64        \n",
            " 10  end_lat             float64        \n",
            " 11  end_lng             float64        \n",
            " 12  member_casual       object         \n",
            " 13  start               datetime64[ns] \n",
            " 14  end                 datetime64[ns] \n",
            " 15  ride_length         timedelta64[ns]\n",
            " 16  start_date          datetime64[ns] \n",
            " 17  week_day            object         \n",
            " 18  year                int64          \n",
            " 19  month               int64          \n",
            " 20  x                   float64        \n",
            " 21  y                   float64        \n",
            " 22  distance            float64        \n",
            "dtypes: datetime64[ns](3), float64(7), int64(2), object(10), timedelta64[ns](1)\n",
            "memory usage: 984.9+ MB\n"
          ]
        }
      ]
    },
    {
      "cell_type": "code",
      "metadata": {
        "id": "bRQwK-P3Tspz"
      },
      "source": [
        "#Extracting relevant features from data frame\n",
        "cyclistic = master_df[[\"ride_id\", \"rideable_type\", \"ride_length\", \"week_day\", \"distance\", \"year\", \"month\", \"member_casual\"]]\n"
      ],
      "execution_count": null,
      "outputs": []
    },
    {
      "cell_type": "code",
      "metadata": {
        "colab": {
          "base_uri": "https://localhost:8080/",
          "height": 206
        },
        "id": "NpmXsQE5XTSr",
        "outputId": "45daabcb-5859-45f0-91f0-d1909b29838f"
      },
      "source": [
        "#Data preview\n",
        "\n",
        "cyclistic.head()"
      ],
      "execution_count": null,
      "outputs": [
        {
          "output_type": "execute_result",
          "data": {
            "text/html": [
              "<div>\n",
              "<style scoped>\n",
              "    .dataframe tbody tr th:only-of-type {\n",
              "        vertical-align: middle;\n",
              "    }\n",
              "\n",
              "    .dataframe tbody tr th {\n",
              "        vertical-align: top;\n",
              "    }\n",
              "\n",
              "    .dataframe thead th {\n",
              "        text-align: right;\n",
              "    }\n",
              "</style>\n",
              "<table border=\"1\" class=\"dataframe\">\n",
              "  <thead>\n",
              "    <tr style=\"text-align: right;\">\n",
              "      <th></th>\n",
              "      <th>ride_id</th>\n",
              "      <th>rideable_type</th>\n",
              "      <th>ride_length</th>\n",
              "      <th>week_day</th>\n",
              "      <th>distance</th>\n",
              "      <th>year</th>\n",
              "      <th>month</th>\n",
              "      <th>member_casual</th>\n",
              "    </tr>\n",
              "  </thead>\n",
              "  <tbody>\n",
              "    <tr>\n",
              "      <th>0</th>\n",
              "      <td>BD0A6FF6FFF9B921</td>\n",
              "      <td>electric_bike</td>\n",
              "      <td>0 days 00:09:40</td>\n",
              "      <td>Saturday</td>\n",
              "      <td>0.005754</td>\n",
              "      <td>2020</td>\n",
              "      <td>11</td>\n",
              "      <td>casual</td>\n",
              "    </tr>\n",
              "    <tr>\n",
              "      <th>1</th>\n",
              "      <td>96A7A7A4BDE4F82D</td>\n",
              "      <td>electric_bike</td>\n",
              "      <td>0 days 00:11:19</td>\n",
              "      <td>Saturday</td>\n",
              "      <td>0.028824</td>\n",
              "      <td>2020</td>\n",
              "      <td>11</td>\n",
              "      <td>casual</td>\n",
              "    </tr>\n",
              "    <tr>\n",
              "      <th>2</th>\n",
              "      <td>C61526D06582BDC5</td>\n",
              "      <td>electric_bike</td>\n",
              "      <td>0 days 00:29:01</td>\n",
              "      <td>Saturday</td>\n",
              "      <td>0.015603</td>\n",
              "      <td>2020</td>\n",
              "      <td>11</td>\n",
              "      <td>casual</td>\n",
              "    </tr>\n",
              "    <tr>\n",
              "      <th>3</th>\n",
              "      <td>E533E89C32080B9E</td>\n",
              "      <td>electric_bike</td>\n",
              "      <td>0 days 00:09:15</td>\n",
              "      <td>Saturday</td>\n",
              "      <td>0.024142</td>\n",
              "      <td>2020</td>\n",
              "      <td>11</td>\n",
              "      <td>casual</td>\n",
              "    </tr>\n",
              "    <tr>\n",
              "      <th>4</th>\n",
              "      <td>1C9F4EF18C168C60</td>\n",
              "      <td>electric_bike</td>\n",
              "      <td>0 days 00:33:27</td>\n",
              "      <td>Saturday</td>\n",
              "      <td>0.000053</td>\n",
              "      <td>2020</td>\n",
              "      <td>11</td>\n",
              "      <td>casual</td>\n",
              "    </tr>\n",
              "  </tbody>\n",
              "</table>\n",
              "</div>"
            ],
            "text/plain": [
              "            ride_id  rideable_type     ride_length  ...  year  month  member_casual\n",
              "0  BD0A6FF6FFF9B921  electric_bike 0 days 00:09:40  ...  2020     11         casual\n",
              "1  96A7A7A4BDE4F82D  electric_bike 0 days 00:11:19  ...  2020     11         casual\n",
              "2  C61526D06582BDC5  electric_bike 0 days 00:29:01  ...  2020     11         casual\n",
              "3  E533E89C32080B9E  electric_bike 0 days 00:09:15  ...  2020     11         casual\n",
              "4  1C9F4EF18C168C60  electric_bike 0 days 00:33:27  ...  2020     11         casual\n",
              "\n",
              "[5 rows x 8 columns]"
            ]
          },
          "metadata": {},
          "execution_count": 34
        }
      ]
    },
    {
      "cell_type": "code",
      "metadata": {
        "id": "2YUFmmsPS-aU"
      },
      "source": [
        "# master_df.to_csv(\"/content/drive/MyDrive/Cyclisitc/Data/cyclistic_ready_data.csv\")"
      ],
      "execution_count": null,
      "outputs": []
    },
    {
      "cell_type": "code",
      "metadata": {
        "id": "HMNJWe94YA0y"
      },
      "source": [
        "# cyclistic.to_csv(\"/content/drive/MyDrive/Cyclisitc/Data/cyclistic_final.csv\")"
      ],
      "execution_count": null,
      "outputs": []
    },
    {
      "cell_type": "markdown",
      "metadata": {
        "id": "K-ige_fadnx4"
      },
      "source": [
        "### **Data Analysis**"
      ]
    },
    {
      "cell_type": "code",
      "metadata": {
        "id": "fJvVEX_vfoRU"
      },
      "source": [
        "import matplotlib.pyplot as plt\n",
        "import seaborn as sns\n",
        "import warnings\n",
        "warnings.filterwarnings(\"ignore\")"
      ],
      "execution_count": null,
      "outputs": []
    },
    {
      "cell_type": "code",
      "metadata": {
        "colab": {
          "base_uri": "https://localhost:8080/",
          "height": 368
        },
        "id": "IRyhqi1jeBbe",
        "outputId": "ca58b403-2c6c-4ba6-9219-c45a702f3875"
      },
      "source": [
        "#Type of users in past 12 months\n",
        "member=cyclistic.member_casual.value_counts()\n",
        "print(\"Type of users in past 12 months\\n\",pd.DataFrame(member),\"\\n\")\n",
        "sns.barplot(member.index,member.values).set(title=\"Type of users in past 12 months\")\n",
        "fig = plt.gcf()\n",
        "size = fig.get_size_inches()*fig.dpi # size in pixels"
      ],
      "execution_count": null,
      "outputs": [
        {
          "output_type": "stream",
          "name": "stdout",
          "text": [
            "Type of users in past 12 months\n",
            "         member_casual\n",
            "member        2908317\n",
            "casual        2470517 \n",
            "\n"
          ]
        },
        {
          "output_type": "display_data",
          "data": {
            "image/png": "[encoded data removed]",
            "text/plain": [
              "<Figure size 432x288 with 1 Axes>"
            ]
          },
          "metadata": {
            "needs_background": "light"
          }
        }
      ]
    },
    {
      "cell_type": "code",
      "metadata": {
        "colab": {
          "base_uri": "https://localhost:8080/",
          "height": 319
        },
        "id": "5eY7eCMMiyS_",
        "outputId": "18fa344b-1e98-40d3-97b6-70196f22276e"
      },
      "source": [
        "plt.figure(figsize=(10,5))\n",
        "plt.pie(member.values, labels = member.index, autopct='%1.1f%%',explode = (0.1,0))\n",
        "plt.title(\"Percentage of users in each type\")\n",
        "plt.legend(member.index)"
      ],
      "execution_count": null,
      "outputs": [
        {
          "output_type": "display_data",
          "data": {
            "image/png": "[encoded data removed]",
            "text/plain": [
              "<Figure size 720x360 with 1 Axes>"
            ]
          },
          "metadata": {}
        }
      ]
    },
    {
      "cell_type": "code",
      "metadata": {
        "id": "l18kIHybpiEV"
      },
      "source": [
        "customer_by_year = cyclistic.groupby('year')[\"member_casual\"].value_counts()\n",
        "years = []\n",
        "val = []\n",
        "cby=list(customer_by_year.values)\n",
        "for i,j in customer_by_year.index:\n",
        "  val.append(j)\n",
        "  years.append(str(i))"
      ],
      "execution_count": null,
      "outputs": []
    },
    {
      "cell_type": "code",
      "metadata": {
        "colab": {
          "base_uri": "https://localhost:8080/",
          "height": 298
        },
        "id": "aT027pt1re1T",
        "outputId": "385f6259-1d4a-4680-ff0b-311974e4186f"
      },
      "source": [
        "sns.barplot(val,list(customer_by_year.values),hue=years).set(title=\"Count of Member and Casual Riders over the years\")"
      ],
      "execution_count": null,
      "outputs": [
        {
          "output_type": "execute_result",
          "data": {
            "text/plain": [
              "[Text(0.5, 1.0, 'Count of Member and Casual Riders over the years')]"
            ]
          },
          "metadata": {},
          "execution_count": 60
        },
        {
          "output_type": "display_data",
          "data": {
            "image/png": "[encoded data removed]",
            "text/plain": [
              "<Figure size 432x288 with 1 Axes>"
            ]
          },
          "metadata": {
            "needs_background": "light"
          }
        }
      ]
    },
    {
      "cell_type": "code",
      "metadata": {
        "id": "e7eACqvpr32P"
      },
      "source": [
        "customer_by_month = cyclistic.groupby('month')['member_casual'].value_counts()\n",
        "months = []\n",
        "val = []\n",
        "cbm = list(customer_by_month.values)\n",
        "for i, j in customer_by_month.index:\n",
        "  val.append(j)\n",
        "  months.append(str(i))"
      ],
      "execution_count": null,
      "outputs": []
    },
    {
      "cell_type": "code",
      "metadata": {
        "colab": {
          "base_uri": "https://localhost:8080/",
          "height": 455
        },
        "id": "HOt8UJj6r74x",
        "outputId": "5bbd9685-6417-422a-f4be-a9032780260b"
      },
      "source": [
        "# Plot count of Member and Casual Riders over the months\n",
        "plt.figure(figsize = (20,10))\n",
        "sns.barplot(val,cbm, hue = months,palette=\"YlOrBr\").set(title=\"Count of Member and Casual Riders over the months\")\n"
      ],
      "execution_count": null,
      "outputs": [
        {
          "output_type": "execute_result",
          "data": {
            "text/plain": [
              "[Text(0.5, 1.0, 'Count of Member and Casual Riders over the months')]"
            ]
          },
          "metadata": {},
          "execution_count": 105
        },
        {
          "output_type": "display_data",
          "data": {
            "image/png": "[encoded data removed]",
            "text/plain": [
              "<Figure size 1440x720 with 1 Axes>"
            ]
          },
          "metadata": {
            "needs_background": "light"
          }
        }
      ]
    },
    {
      "cell_type": "code",
      "metadata": {
        "id": "KusRvGnet8MX"
      },
      "source": [
        "customer_by_ride = cyclistic.groupby(\"member_casual\")[\"rideable_type\"].value_counts()\n",
        "rides = []\n",
        "val = []\n",
        "cmr = list(customer_by_ride.values)\n",
        "for i, j in customer_by_ride.index:\n",
        "  val.append(j)\n",
        "  rides.append(str(i))"
      ],
      "execution_count": null,
      "outputs": []
    },
    {
      "cell_type": "code",
      "metadata": {
        "colab": {
          "base_uri": "https://localhost:8080/",
          "height": 462
        },
        "id": "x8fmeYf3xOZR",
        "outputId": "4f9192d7-7eeb-4163-ea0f-3a6859d506a2"
      },
      "source": [
        "plt.figure(figsize = (20,10))\n",
        "\n",
        "sns.barplot(val,cmr,hue = rides).set(title=\"Count of Member and Casual Riders over the months\")"
      ],
      "execution_count": null,
      "outputs": [
        {
          "output_type": "execute_result",
          "data": {
            "text/plain": [
              "[Text(0.5, 1.0, 'Count of Member and Casual Riders over the months')]"
            ]
          },
          "metadata": {},
          "execution_count": 102
        },
        {
          "output_type": "display_data",
          "data": {
            "image/png": "[encoded data removed]",
            "text/plain": [
              "<Figure size 1440x720 with 1 Axes>"
            ]
          },
          "metadata": {
            "needs_background": "light"
          }
        }
      ]
    },
    {
      "cell_type": "code",
      "metadata": {
        "id": "XQd7p84ox_WC"
      },
      "source": [
        ""
      ],
      "execution_count": null,
      "outputs": []
    }
  ]
}